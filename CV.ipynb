{
 "cells": [
  {
   "cell_type": "markdown",
   "metadata": {},
   "source": [
    "# Árvores II - Tarefa 2"
   ]
  },
  {
   "cell_type": "markdown",
   "metadata": {},
   "source": [
    "### 1. Carregar as bases\n",
    "\n",
    "Vamos carregar as bases lidas na tarefa passada. Se você salvou essas bases em arquivo texto, basta fazer a leitura com o comando ```pd.read_csv``` das seguintes bases:\n",
    "\n",
    "- X_train\n",
    "- Y_train\n",
    "- X_test\n",
    "- Y_test\n",
    "\n",
    "Não se esqueça de considerar a leitura dos índices dos arquivos no ```read_csv()```!"
   ]
  },
  {
   "cell_type": "code",
   "execution_count": 99,
   "metadata": {},
   "outputs": [],
   "source": [
    "import pandas as pd\n",
    "import seaborn as sns\n",
    "import matplotlib.pyplot as plt\n",
    "import numpy as np\n",
    "from sklearn.tree import DecisionTreeClassifier\n",
    "from sklearn.model_selection import train_test_split\n",
    "from sklearn.metrics import ConfusionMatrixDisplay , confusion_matrix"
   ]
  },
  {
   "cell_type": "code",
   "execution_count": 100,
   "metadata": {},
   "outputs": [],
   "source": [
    "X_ = pd.read_csv('X_train.csv',index_col=[0,1])\n",
    "y_ = pd.read_csv('y_train.csv',index_col=0)\n",
    "X_test = pd.read_csv('X_test.csv',index_col=[0,1])\n",
    "y_test = pd.read_csv('y_test.csv',index_col=0)"
   ]
  },
  {
   "cell_type": "markdown",
   "metadata": {},
   "source": [
    "### 2. Divisão da base em Treino, Validação e Teste\n",
    "\n",
    "A base já se encontra dividida em Treino e Validação. O que vamos fazer então é extrair uma base de Validação da base de Treino.\n",
    "\n",
    "Extraia 25% da base de treino como base de validação."
   ]
  },
  {
   "cell_type": "code",
   "execution_count": 101,
   "metadata": {},
   "outputs": [],
   "source": [
    "X_train , X_valid, y_train, y_valid = train_test_split(X_,y_,test_size=0.25,random_state=17)"
   ]
  },
  {
   "cell_type": "markdown",
   "metadata": {},
   "source": [
    "### 3. Melhores 3 variáveis\n",
    "\n",
    "Rode uma árvore com profundidade máxima igual a 4 para prever a atividade humana com todas as variáveis.\n",
    "Observe a importância das variáveis e considere as 3 variáveis com maior importância para os próximos passos.\n",
    "Dica: utilize o atributo ```clf.feature_importances_``` da árvore treinada."
   ]
  },
  {
   "cell_type": "code",
   "execution_count": 102,
   "metadata": {},
   "outputs": [
    {
     "data": {
      "text/html": [
       "<div>\n",
       "<style scoped>\n",
       "    .dataframe tbody tr th:only-of-type {\n",
       "        vertical-align: middle;\n",
       "    }\n",
       "\n",
       "    .dataframe tbody tr th {\n",
       "        vertical-align: top;\n",
       "    }\n",
       "\n",
       "    .dataframe thead th {\n",
       "        text-align: right;\n",
       "    }\n",
       "</style>\n",
       "<table border=\"1\" class=\"dataframe\">\n",
       "  <thead>\n",
       "    <tr style=\"text-align: right;\">\n",
       "      <th></th>\n",
       "      <th></th>\n",
       "      <th>53 tGravityAcc-min()-X</th>\n",
       "      <th>394 fBodyAccJerk-bandsEnergy()-1,24</th>\n",
       "      <th>560 angle(Y,gravityMean)</th>\n",
       "    </tr>\n",
       "  </thead>\n",
       "  <tbody>\n",
       "    <tr>\n",
       "      <th>6754</th>\n",
       "      <th>29</th>\n",
       "      <td>0.940240</td>\n",
       "      <td>-0.565011</td>\n",
       "      <td>0.150598</td>\n",
       "    </tr>\n",
       "    <tr>\n",
       "      <th>1461</th>\n",
       "      <th>7</th>\n",
       "      <td>0.780998</td>\n",
       "      <td>-0.816506</td>\n",
       "      <td>0.215680</td>\n",
       "    </tr>\n",
       "    <tr>\n",
       "      <th>6633</th>\n",
       "      <th>29</th>\n",
       "      <td>0.989995</td>\n",
       "      <td>-0.999983</td>\n",
       "      <td>0.068684</td>\n",
       "    </tr>\n",
       "    <tr>\n",
       "      <th>6525</th>\n",
       "      <th>28</th>\n",
       "      <td>-0.654149</td>\n",
       "      <td>-0.999965</td>\n",
       "      <td>0.219030</td>\n",
       "    </tr>\n",
       "    <tr>\n",
       "      <th>4859</th>\n",
       "      <th>23</th>\n",
       "      <td>0.805501</td>\n",
       "      <td>-0.829062</td>\n",
       "      <td>0.239261</td>\n",
       "    </tr>\n",
       "    <tr>\n",
       "      <th>...</th>\n",
       "      <th>...</th>\n",
       "      <td>...</td>\n",
       "      <td>...</td>\n",
       "      <td>...</td>\n",
       "    </tr>\n",
       "    <tr>\n",
       "      <th>1337</th>\n",
       "      <th>7</th>\n",
       "      <td>0.970240</td>\n",
       "      <td>-0.999510</td>\n",
       "      <td>0.144089</td>\n",
       "    </tr>\n",
       "    <tr>\n",
       "      <th>406</th>\n",
       "      <th>3</th>\n",
       "      <td>-0.281043</td>\n",
       "      <td>-0.999864</td>\n",
       "      <td>-0.536666</td>\n",
       "    </tr>\n",
       "    <tr>\n",
       "      <th>5510</th>\n",
       "      <th>26</th>\n",
       "      <td>0.988478</td>\n",
       "      <td>-0.999977</td>\n",
       "      <td>0.179444</td>\n",
       "    </tr>\n",
       "    <tr>\n",
       "      <th>2191</th>\n",
       "      <th>11</th>\n",
       "      <td>0.937872</td>\n",
       "      <td>-0.600806</td>\n",
       "      <td>0.241396</td>\n",
       "    </tr>\n",
       "    <tr>\n",
       "      <th>2671</th>\n",
       "      <th>15</th>\n",
       "      <td>0.933119</td>\n",
       "      <td>-0.418992</td>\n",
       "      <td>0.205758</td>\n",
       "    </tr>\n",
       "  </tbody>\n",
       "</table>\n",
       "<p>5514 rows × 3 columns</p>\n",
       "</div>"
      ],
      "text/plain": [
       "         53 tGravityAcc-min()-X  394 fBodyAccJerk-bandsEnergy()-1,24  \\\n",
       "6754 29                0.940240                            -0.565011   \n",
       "1461 7                 0.780998                            -0.816506   \n",
       "6633 29                0.989995                            -0.999983   \n",
       "6525 28               -0.654149                            -0.999965   \n",
       "4859 23                0.805501                            -0.829062   \n",
       "...                         ...                                  ...   \n",
       "1337 7                 0.970240                            -0.999510   \n",
       "406  3                -0.281043                            -0.999864   \n",
       "5510 26                0.988478                            -0.999977   \n",
       "2191 11                0.937872                            -0.600806   \n",
       "2671 15                0.933119                            -0.418992   \n",
       "\n",
       "         560 angle(Y,gravityMean)  \n",
       "6754 29                  0.150598  \n",
       "1461 7                   0.215680  \n",
       "6633 29                  0.068684  \n",
       "6525 28                  0.219030  \n",
       "4859 23                  0.239261  \n",
       "...                           ...  \n",
       "1337 7                   0.144089  \n",
       "406  3                  -0.536666  \n",
       "5510 26                  0.179444  \n",
       "2191 11                  0.241396  \n",
       "2671 15                  0.205758  \n",
       "\n",
       "[5514 rows x 3 columns]"
      ]
     },
     "execution_count": 102,
     "metadata": {},
     "output_type": "execute_result"
    }
   ],
   "source": [
    "depth_tree = DecisionTreeClassifier(max_depth=4,random_state=17)\n",
    "depth_tree.fit(X_train,y_train)\n",
    "importances = depth_tree.feature_importances_\n",
    "sorted_indices = np.argsort(importances)[::-1]\n",
    "sorted_indices[:3]\n",
    "X_train.iloc[:,sorted_indices[:3]]"
   ]
  },
  {
   "cell_type": "markdown",
   "metadata": {},
   "source": [
    "### 4. Construa uma árvore com as 3 melhores variáveis\n",
    "\n",
    "Utilizando as três variáveis encontradas acima, construa uma árvore de decisão. Encontre o melhor ```ccp_alpha``` utilizando a base de validação, conforme a estrutura que vimos em aula."
   ]
  },
  {
   "cell_type": "code",
   "execution_count": 103,
   "metadata": {},
   "outputs": [],
   "source": [
    "depth_tree = DecisionTreeClassifier()\n",
    "\n",
    "path = depth_tree.cost_complexity_pruning_path(X_train.iloc[:,sorted_indices[:3]],y_train)\n",
    "ccp_alphas, impurities = path.ccp_alphas, path.impurities\n",
    "\n",
    "ccp_alphas = np.unique(ccp_alphas[ccp_alphas >= 0])"
   ]
  },
  {
   "cell_type": "code",
   "execution_count": 104,
   "metadata": {},
   "outputs": [],
   "source": [
    "trees = []\n",
    "for alpha in ccp_alphas:\n",
    "    tree = DecisionTreeClassifier(ccp_alpha=alpha,random_state=17).fit(X_train.iloc[:,sorted_indices[:3]],y_train)\n",
    "    trees.append(tree)"
   ]
  },
  {
   "cell_type": "code",
   "execution_count": 105,
   "metadata": {},
   "outputs": [
    {
     "data": {
      "image/png": "[encoded data removed]",
      "text/plain": [
       "<Figure size 640x480 with 1 Axes>"
      ]
     },
     "metadata": {},
     "output_type": "display_data"
    },
    {
     "data": {
      "text/plain": [
       "0.8895538628944505"
      ]
     },
     "execution_count": 105,
     "metadata": {},
     "output_type": "execute_result"
    }
   ],
   "source": [
    "train_scores = [tree.score(X_train.iloc[:,sorted_indices[:3]],y_train) for tree in trees]\n",
    "test_scores = [tree.score(X_valid.iloc[:,sorted_indices[:3]],y_valid) for tree in trees]\n",
    "fig, ax = plt.subplots()\n",
    "ax.set_xlabel(\"alpha\")\n",
    "ax.set_ylabel(\"Acurácia\")\n",
    "ax.set_title(\"Acurácia x alpha do conjunto de dados de treino e teste\")\n",
    "ax.plot(ccp_alphas, train_scores, marker='o', label=\"treino\",\n",
    "        drawstyle=\"steps-post\")\n",
    "ax.plot(ccp_alphas, test_scores, marker='o', label=\"teste\",\n",
    "        drawstyle=\"steps-post\")\n",
    "ax.legend()\n",
    "plt.show()\n",
    "max(test_scores)"
   ]
  },
  {
   "cell_type": "code",
   "execution_count": 106,
   "metadata": {},
   "outputs": [],
   "source": [
    "ind_melhor_arvore = len(test_scores) - test_scores[::-1].index(max(test_scores)) - 1\n",
    "best_tree = trees[ind_melhor_arvore]"
   ]
  },
  {
   "cell_type": "markdown",
   "metadata": {},
   "source": [
    "### 5. Avaliação do modelo\n",
    "\n",
    "Avalie a árvore encontrada no item anterior na base de testes."
   ]
  },
  {
   "cell_type": "code",
   "execution_count": 107,
   "metadata": {},
   "outputs": [
    {
     "name": "stdout",
     "output_type": "stream",
     "text": [
      "0.7000339328130302\n"
     ]
    }
   ],
   "source": [
    "print(best_tree.score(X_test.iloc[:,sorted_indices[:3]],y_test))\n",
    "y_pred = best_tree.predict(X_test.iloc[:,sorted_indices[:3]])"
   ]
  },
  {
   "cell_type": "code",
   "execution_count": 108,
   "metadata": {},
   "outputs": [
    {
     "data": {
      "image/png": "[encoded data removed]",
      "text/plain": [
       "<Figure size 640x480 with 2 Axes>"
      ]
     },
     "metadata": {},
     "output_type": "display_data"
    }
   ],
   "source": [
    "cm = confusion_matrix(y_test, y_pred , labels=best_tree.classes_)\n",
    "\n",
    "disp = ConfusionMatrixDisplay(confusion_matrix=cm, display_labels=best_tree.classes_)\n",
    "disp.plot()\n",
    "plt.show()"
   ]
  }
 ],
 "metadata": {
  "interpreter": {
   "hash": "c4c39a5f0a0b0b71f2aee2d63e449ef6715d1ff48a14d815b54fca758569cb06"
  },
  "kernelspec": {
   "display_name": "Python 3.11.3 ('credito')",
   "language": "python",
   "name": "python3"
  },
  "language_info": {
   "codemirror_mode": {
    "name": "ipython",
    "version": 3
   },
   "file_extension": ".py",
   "mimetype": "text/x-python",
   "name": "python",
   "nbconvert_exporter": "python",
   "pygments_lexer": "ipython3",
   "version": "3.11.4"
  }
 },
 "nbformat": 4,
 "nbformat_minor": 4
}
